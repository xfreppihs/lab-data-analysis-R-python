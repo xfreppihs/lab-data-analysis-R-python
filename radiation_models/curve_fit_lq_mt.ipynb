{
 "cells": [
  {
   "cell_type": "markdown",
   "metadata": {},
   "source": [
    "We can use the Poisson distribution to model radiation hit in target cells.\n",
    "$$P(n)=\\frac{\\lambda^ne^{-\\lambda}}{n!}$$\n",
    "where $\\lambda$ is the average number of events occurred in a unit time and n is the specific number of events occurred in a unit time. \n",
    "\n",
    "If each \"hit\" is assumed to result in cell inactivation, then the probability of survival is the probability of not being hit, P(0).\n",
    "$$P(0)=\\frac{\\lambda^0e^{-\\lambda}}{0!}=e^{-\\lambda}$$\n",
    "We define a dose $D_0$ that delivers, on average, one lethal event per target. This dose will result in $P(0)=e^{-1}=0.37$ survival. $D_0$ is often called the **mean lethal dose**.\n",
    "\n",
    "#### Linear-Quadratic Model\n",
    "The *linear-quadratic* (**L-Q**) equation is the most wildly accepted method of fitting the survival of cells following radiation. It is given by $$S=e^{-(\\alpha D+\\beta D^{2})}$$\n",
    "Where S is the number of surviving cells following a dose of D, and $\\alpha$ and $\\beta$ describe the linear and quadratic parts of the survival curve. The $\\alpha$ and $\\beta$ constants vary between different tissues and tumors.\n",
    "\n",
    "#### Multi-Target Model\n",
    "In a *multi-target* (**M-T**) model, each cell contains n distinct and identical targets and all n targets must be inactivated to kill the cell. The probability that a target is not hit is $e^{-\\frac{D}{D_0}}$. The probability that a target is hit is $1-e^{-\\frac{D}{D_0}}$. The probability that all n targets are hit is $(1-e^{-\\frac{D}{D_0}})^n$. Therefore the probability that all n targets will not be hit, i.e., the probability of survival, is $$S=1-(1-e^{-\\frac{D}{D_0}})^n$$\n",
    "\n",
    "Here this clonogenic assay shows the survival of FaDu cells following radiation and we are going to fit the dose response curve to the L-Q and M-T models."
   ]
  },
  {
   "cell_type": "code",
   "execution_count": 107,
   "metadata": {},
   "outputs": [],
   "source": [
    "import pandas as pd\n",
    "import numpy as np\n",
    "import matplotlib.pyplot as plt\n",
    "import math\n",
    "from scipy.optimize import curve_fit\n",
    "%matplotlib inline"
   ]
  },
  {
   "cell_type": "code",
   "execution_count": 103,
   "metadata": {},
   "outputs": [
    {
     "data": {
      "text/html": [
       "<div>\n",
       "<style scoped>\n",
       "    .dataframe tbody tr th:only-of-type {\n",
       "        vertical-align: middle;\n",
       "    }\n",
       "\n",
       "    .dataframe tbody tr th {\n",
       "        vertical-align: top;\n",
       "    }\n",
       "\n",
       "    .dataframe thead th {\n",
       "        text-align: right;\n",
       "    }\n",
       "</style>\n",
       "<table border=\"1\" class=\"dataframe\">\n",
       "  <thead>\n",
       "    <tr style=\"text-align: right;\">\n",
       "      <th></th>\n",
       "      <th>radiation</th>\n",
       "      <th>surviving.fraction</th>\n",
       "      <th>sd</th>\n",
       "    </tr>\n",
       "  </thead>\n",
       "  <tbody>\n",
       "    <tr>\n",
       "      <th>0</th>\n",
       "      <td>0</td>\n",
       "      <td>0.992063</td>\n",
       "      <td>0.297254</td>\n",
       "    </tr>\n",
       "    <tr>\n",
       "      <th>1</th>\n",
       "      <td>2</td>\n",
       "      <td>0.523810</td>\n",
       "      <td>0.153567</td>\n",
       "    </tr>\n",
       "    <tr>\n",
       "      <th>2</th>\n",
       "      <td>4</td>\n",
       "      <td>0.170635</td>\n",
       "      <td>0.085736</td>\n",
       "    </tr>\n",
       "    <tr>\n",
       "      <th>3</th>\n",
       "      <td>6</td>\n",
       "      <td>0.037037</td>\n",
       "      <td>0.008197</td>\n",
       "    </tr>\n",
       "    <tr>\n",
       "      <th>4</th>\n",
       "      <td>8</td>\n",
       "      <td>0.005291</td>\n",
       "      <td>0.008197</td>\n",
       "    </tr>\n",
       "  </tbody>\n",
       "</table>\n",
       "</div>"
      ],
      "text/plain": [
       "   radiation  surviving.fraction        sd\n",
       "0          0            0.992063  0.297254\n",
       "1          2            0.523810  0.153567\n",
       "2          4            0.170635  0.085736\n",
       "3          6            0.037037  0.008197\n",
       "4          8            0.005291  0.008197"
      ]
     },
     "execution_count": 103,
     "metadata": {},
     "output_type": "execute_result"
    }
   ],
   "source": [
    "data={'radiation':[0,2,4,6,8], 'surviving.fraction': [0.992063492,0.523809524,0.170634921,0.037037037,0.005291005],\n",
    "      'sd': [0.297253744,0.153566814,0.085736329,0.00819679,0.00819679]}\n",
    "df = pd.DataFrame(data)\n",
    "df"
   ]
  },
  {
   "cell_type": "code",
   "execution_count": 131,
   "metadata": {},
   "outputs": [
    {
     "data": {
      "text/plain": [
       "Text(0, 0.5, 'Surviving fraction')"
      ]
     },
     "execution_count": 131,
     "metadata": {},
     "output_type": "execute_result"
    },
    {
     "data": {
      "image/png": "[encoded data removed]",
      "text/plain": [
       "<Figure size 432x288 with 1 Axes>"
      ]
     },
     "metadata": {
      "needs_background": "light"
     },
     "output_type": "display_data"
    }
   ],
   "source": [
    "plt.plot(df['radiation'], df['surviving.fraction'], ls = '--', marker = 'o', markersize = 5)\n",
    "plt.xlabel(\"Dose (Gy)\")\n",
    "plt.ylabel(\"Surviving fraction\")"
   ]
  },
  {
   "cell_type": "code",
   "execution_count": 119,
   "metadata": {},
   "outputs": [],
   "source": [
    "# Fit data to L-Q model\n",
    "def lq(d, a, b):\n",
    "    return math.e**(-a*d-b*d*d)\n",
    "param1, param_cov1 = curve_fit(lq, df['radiation'], df['surviving.fraction'])\n",
    "a, b = param1\n",
    "\n",
    "# Fit data to M-T model\n",
    "def mt(d, d0, n):\n",
    "    return 1-(1-math.e**(-d/d0))**n\n",
    "param2, param_cov2 = curve_fit(mt, df['radiation'], df['surviving.fraction'])\n",
    "d0, n = param2\n",
    "\n",
    "# define a sequence of inputs between the smallest and largest known inputs\n",
    "x_dose = np.arange(0,8,0.1)\n",
    "# calculate the output for the range\n",
    "y_lq = lq(x_dose, a, b)\n",
    "y_mt = mt(x_dose, d0, n)"
   ]
  },
  {
   "cell_type": "code",
   "execution_count": 133,
   "metadata": {},
   "outputs": [
    {
     "data": {
      "text/plain": [
       "Text(0, 0.5, 'Surviving fraction')"
      ]
     },
     "execution_count": 133,
     "metadata": {},
     "output_type": "execute_result"
    },
    {
     "data": {
      "image/png": "[encoded data removed]",
      "text/plain": [
       "<Figure size 432x288 with 1 Axes>"
      ]
     },
     "metadata": {
      "needs_background": "light"
     },
     "output_type": "display_data"
    }
   ],
   "source": [
    "plt.errorbar(df['radiation'], df['surviving.fraction'], yerr = df['sd'], color = 'black', \n",
    "              fmt='o') # 'o' means only showing data point, no line (as opposed to '-o')\n",
    "plt.plot(x_dose, y_lq, color = 'red', label = 'linear-quadratic')\n",
    "plt.plot(x_dose, y_mt, color = 'green', label = 'multi-target')\n",
    "plt.yscale('log')\n",
    "plt.legend()\n",
    "plt.xlabel(\"Dose (Gy)\")\n",
    "plt.ylabel(\"Surviving fraction\")"
   ]
  }
 ],
 "metadata": {
  "kernelspec": {
   "display_name": "Python 3",
   "language": "python",
   "name": "python3"
  },
  "language_info": {
   "codemirror_mode": {
    "name": "ipython",
    "version": 3
   },
   "file_extension": ".py",
   "mimetype": "text/x-python",
   "name": "python",
   "nbconvert_exporter": "python",
   "pygments_lexer": "ipython3",
   "version": "3.8.5"
  }
 },
 "nbformat": 4,
 "nbformat_minor": 4
}
